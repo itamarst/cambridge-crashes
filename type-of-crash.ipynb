{
 "cells": [
  {
   "cell_type": "code",
   "execution_count": 1,
   "metadata": {},
   "outputs": [
    {
     "name": "stderr",
     "output_type": "stream",
     "text": [
      "/tmp/ipykernel_1132347/720344402.py:2: DtypeWarning: Columns (73,80,81,110,115) have mixed types. Specify dtype option on import or set low_memory=False.\n",
      "  csv = pandas.read_csv(\"crashes.csv\")\n"
     ]
    }
   ],
   "source": [
    "import pandas\n",
    "csv = pandas.read_csv(\"crashes.csv\")"
   ]
  },
  {
   "cell_type": "code",
   "execution_count": 28,
   "metadata": {},
   "outputs": [
    {
     "name": "stdout",
     "output_type": "stream",
     "text": [
      "['Date Time', 'Day of Week', 'Object 1', 'Object 2', 'Street Number', 'Street Name', 'Cross Street', 'Near Street', 'Location', 'May involve cyclist', 'May Involve Pedestrian', 'Manner of Collision', 'First Harmful Event Location', 'First Harmful Event', 'Ambient Light', 'Weather Condition 1', 'Weather Condition 2', 'Traffic Control Device Type', 'Traffic Control Device Functionality', 'Road Surface Condition', 'Roadway Junction Type', 'Trafficway Description', 'School Bus Related', 'Work Zone', 'Speed Limit', 'Street or Intersection', 'Intersection Name 1', 'Intersection Direction 1', 'Intersection Name 2', 'Intersection Direction 2', 'Intersection Name 3', 'Intersection Direction 3', 'Street Direction', 'Nearest Intersection Distance', 'Nearest Intersection Direction', 'Landmark Distance', 'Landmark Direction', 'Landmark', 'Mile Marker Direction', 'Non Public Area', 'Road Contributing', 'Damaged Property Type', 'Description of Damaged Property', 'V1 Registration Type', 'v1 State Code', 'V1 Configuration', 'V1 Emergency Response', 'V1 Moped', 'V1 Hit and Run', 'V1 Action Prior to Crash', 'V1 Model Year', 'V1 Most Harmful Event', 'V1 Model', 'V1 Make', 'V1 Occupant Count', 'V1 Underride Override', 'V1 First Event', 'V1 Second Event', 'V1 Third Event', 'V1 Fourth Event', 'V1 Most Damaged Area', 'V1 Second Damaged Area', 'V1 Third Damaged Area', 'V1 Towed', 'V1 Travel Direction', 'V1 Interstate', 'V1 Cargo Body Type', 'V1 Gross Weight', 'V1 Haz Placard', 'V1 Haz Release', 'V1 Trailer Reg Type', 'V1 Trailer Reg Plate', 'V1 Trailer Reg State', 'V1 Trailer Reg Year', 'V1 Trailer Len', 'V1 Driver Contribution', 'V1 Driver Contribution 2', 'V1 Is Truck', 'V1 Has Trailer', 'V1 Is Bus', 'V1 Is Hazmat', 'V1 Reg Year', 'V1 Driver Distracted', 'V1 Bus Use', 'V1 Tow Use', 'V2 Registration Type', 'V2 State Code', 'V2 Configuration', 'V2 Emergency Response', 'V2 Moped', 'V2 Hit and Run', 'V2 Action Prior to Crash', 'V2 Model Year', 'V2 Most Harmful Event', 'V2 Model', 'V2 Make', 'V2 Occupant Count', 'V2 Underride Override', 'V2 First Event', 'V2 Second Event', 'V2 Third Event', 'V2 Fourth Event', 'V2 Most Damaged Area', 'V2 Second Damaged Area', 'V2 Third Damaged Area', 'V2 Towed', 'V2 Travel Direction', 'V2 Interstate', 'V2 Cargo Body Type', 'V2 Gross Weight', 'V2 Haz Placard', 'V2 Haz Release', 'V2 Trailer Reg Type', 'V2 Trailer Reg Plate', 'V2 Trailer Reg State', 'V2 Trailer Reg Year', 'V2 Trailer Len', 'V2 Driver Contribution', 'V2 Driver Contribution 2', 'V2 Is Truck', 'V2 Has Trailer', 'V2 Is Bus', 'V2 Is Hazmat', 'V2 Reg Year', 'V2 Driver Distracted', 'V2 Bus Use', 'V2 Tow Use', 'P1 Role', 'P1 Injury', 'P1 Drivers Lic State', 'P1 Drivers Lic Class 1', 'P1 Drivers Lic Class 2', 'P1 Drivers Lic Restrict', 'P1 Non Motorist Desc', 'P1 Non Motorist Action', 'P1 Non Motorist Location', 'P1 Safety Equipment', 'P1 Age', 'P1 Sex', 'P1 Seat Position', 'P1 Safety System', 'P1 Trapped', 'P1 Veh Owner', 'P2 Role', 'P2 Injury', 'P2 Drivers Lic State', 'P2 Drivers Lic Class 1', 'P2 Drivers Lic Class 2', 'P2 Drivers Lic Restrict', 'P2 Non Motorist Desc', 'P2 Non Motorist Action', 'P2 Non Motorist Location', 'P2 Safety Equipment', 'P2 Age', 'P2 Sex', 'P2 Seat Position', 'P2 Safety System', 'P2 Trapped', 'P2 Veh Owner']\n"
     ]
    }
   ],
   "source": [
    "print(list(csv.columns))"
   ]
  },
  {
   "cell_type": "code",
   "execution_count": 64,
   "metadata": {},
   "outputs": [],
   "source": [
    "def stats(desc, df):\n",
    "    print(f\"# {desc}\")\n",
    "    print(f\"total: {len(df)}\")\n",
    "    p1_injury = df[(~df[\"P1 Injury\"].isnull()) & (df[\"P1 Injury\"] != \"NO INJURY\") & (df[\"P1 Injury\"] != \"NO APPARENT INJURY\") &(df[\"P1 Injury\"] != \"UNKNOWN\") ]\n",
    "    display(set(p1_injury[\"P1 Injury\"].values))\n",
    "    p2_injury = df[(~df[\"P2 Injury\"].isnull()) & (df[\"P2 Injury\"] != \"NO INJURY\") & (df[\"P2 Injury\"] != \"NO APPARENT INJURY\") &(df[\"P2 Injury\"] != \"UNKNOWN\")]\n",
    "    display(set(p2_injury[\"P2 Injury\"].values))\n",
    "    print(\"P1 injury: {}\".format(len(p1_injury)))\n",
    "    print(\"P2 injury: {}\".format(len(p2_injury)))\n",
    "    print(\"P1 serious injury: {}\".format(len(p1_injury[p1_injury[\"P1 Injury\"].isin([\"NON FATAL INJURY - INCAPACITATING\", \"SUSPECTED SERIOUS INJURY\"])])))\n",
    "    print(\"P2 serious injury: {}\".format(len(p2_injury[p2_injury[\"P2 Injury\"].isin([\"NON FATAL INJURY - INCAPACITATING\", \"SUSPECTED SERIOUS INJURY\"])])))\n"
   ]
  },
  {
   "cell_type": "code",
   "execution_count": 67,
   "metadata": {
    "tags": []
   },
   "outputs": [
    {
     "name": "stdout",
     "output_type": "stream",
     "text": [
      "# bike + ped\n",
      "total: 23\n"
     ]
    },
    {
     "data": {
      "text/plain": [
       "{'NON FATAL INJURY - INCAPACITATING',\n",
       " 'NON FATAL INJURY - NON INCAPACITATING',\n",
       " 'NON FATAL INJURY - POSSIBLE',\n",
       " 'SUSPECTED MINOR INJURY',\n",
       " 'SUSPECTED SERIOUS INJURY'}"
      ]
     },
     "metadata": {},
     "output_type": "display_data"
    },
    {
     "data": {
      "text/plain": [
       "{'NON FATAL INJURY - NON INCAPACITATING',\n",
       " 'NON FATAL INJURY - POSSIBLE',\n",
       " 'SUSPECTED MINOR INJURY'}"
      ]
     },
     "metadata": {},
     "output_type": "display_data"
    },
    {
     "name": "stdout",
     "output_type": "stream",
     "text": [
      "P1 injury: 12\n",
      "P2 injury: 7\n",
      "P1 serious injury: 2\n",
      "P2 serious injury: 0\n"
     ]
    }
   ],
   "source": [
    "# In many cases both may involve cyclist and pedestrian are true... but \"Object 1\" is a vehicle like PASSENGER CAR, which suggests it's more confusion about who was involved. So we filter it down appropriately.\n",
    "bike_ped_crash_v1 = csv[(csv[\"May involve cyclist\"] == 1) & (csv[\"May Involve Pedestrian\"] == 1) & (csv[\"Object 1\"].isnull())]\n",
    "stats(\"bike + ped\", bike_ped_crash_v1)"
   ]
  },
  {
   "cell_type": "code",
   "execution_count": 68,
   "metadata": {},
   "outputs": [],
   "source": [
    "# Another way of identifying bike/ped crashes is via P1 Non Motorist Desc and P2 Non Motorist Desc\n",
    "bike_ped_crash_v2 = csv[((csv[\"P1 Non Motorist Desc\"] == \"PEDESTRIAN\") & (csv[\"P2 Non Motorist Desc\"] == \"CYCLIST\")) | ((csv[\"P2 Non Motorist Desc\"] == \"PEDESTRIAN\") & (csv[\"P1 Non Motorist Desc\"] == \"CYCLIST\"))]\n",
    "# This is undercount, so skipping and using previous metric."
   ]
  },
  {
   "cell_type": "code",
   "execution_count": 69,
   "metadata": {},
   "outputs": [
    {
     "name": "stdout",
     "output_type": "stream",
     "text": [
      "# cars only\n",
      "total: 8135\n"
     ]
    },
    {
     "data": {
      "text/plain": [
       "{'DECEASED - NOT CAUSED BY CRASH',\n",
       " 'FATAL INJURY',\n",
       " 'NON FATAL INJURY - INCAPACITATING',\n",
       " 'NON FATAL INJURY - NON INCAPACITATING',\n",
       " 'NON FATAL INJURY - POSSIBLE',\n",
       " 'POSSIBLE INJURY',\n",
       " 'SUSPECTED MINOR INJURY',\n",
       " 'SUSPECTED SERIOUS INJURY'}"
      ]
     },
     "metadata": {},
     "output_type": "display_data"
    },
    {
     "data": {
      "text/plain": [
       "{'FATAL INJURY',\n",
       " 'NON FATAL INJURY - INCAPACITATING',\n",
       " 'NON FATAL INJURY - NON INCAPACITATING',\n",
       " 'NON FATAL INJURY - POSSIBLE',\n",
       " 'POSSIBLE INJURY',\n",
       " 'SUSPECTED MINOR INJURY',\n",
       " 'SUSPECTED SERIOUS INJURY'}"
      ]
     },
     "metadata": {},
     "output_type": "display_data"
    },
    {
     "name": "stdout",
     "output_type": "stream",
     "text": [
      "P1 injury: 478\n",
      "P2 injury: 339\n",
      "P1 serious injury: 29\n",
      "P2 serious injury: 20\n"
     ]
    }
   ],
   "source": [
    "# Car crashes (both single car crash, and two car crash)\n",
    "cars_only = csv[(csv[\"May involve cyclist\"].isnull()) & (csv[\"May Involve Pedestrian\"].isnull())]\n",
    "stats(\"cars only\", cars_only)"
   ]
  },
  {
   "cell_type": "code",
   "execution_count": 70,
   "metadata": {},
   "outputs": [
    {
     "name": "stdout",
     "output_type": "stream",
     "text": [
      "# cars/trucks + ped\n",
      "total: 500\n"
     ]
    },
    {
     "data": {
      "text/plain": [
       "{'FATAL INJURY',\n",
       " 'NON FATAL INJURY - INCAPACITATING',\n",
       " 'NON FATAL INJURY - NON INCAPACITATING',\n",
       " 'NON FATAL INJURY - POSSIBLE',\n",
       " 'POSSIBLE INJURY',\n",
       " 'SUSPECTED MINOR INJURY',\n",
       " 'SUSPECTED SERIOUS INJURY'}"
      ]
     },
     "metadata": {},
     "output_type": "display_data"
    },
    {
     "data": {
      "text/plain": [
       "{'NON FATAL INJURY - INCAPACITATING',\n",
       " 'NON FATAL INJURY - NON INCAPACITATING',\n",
       " 'NON FATAL INJURY - POSSIBLE',\n",
       " 'POSSIBLE INJURY',\n",
       " 'SUSPECTED MINOR INJURY',\n",
       " 'SUSPECTED SERIOUS INJURY'}"
      ]
     },
     "metadata": {},
     "output_type": "display_data"
    },
    {
     "name": "stdout",
     "output_type": "stream",
     "text": [
      "P1 injury: 86\n",
      "P2 injury: 196\n",
      "P1 serious injury: 3\n",
      "P2 serious injury: 17\n"
     ]
    }
   ],
   "source": [
    "# Car and ped\n",
    "cars_ped = csv[(csv[\"May involve cyclist\"].isnull()) & (csv[\"May Involve Pedestrian\"] == 1)]\n",
    "stats(\"cars/trucks + ped\", cars_ped)\n"
   ]
  },
  {
   "cell_type": "code",
   "execution_count": 71,
   "metadata": {},
   "outputs": [
    {
     "name": "stdout",
     "output_type": "stream",
     "text": [
      "# car/truck + bike\n",
      "total: 872\n"
     ]
    },
    {
     "data": {
      "text/plain": [
       "{'NON FATAL INJURY - INCAPACITATING',\n",
       " 'NON FATAL INJURY - NON INCAPACITATING',\n",
       " 'NON FATAL INJURY - POSSIBLE',\n",
       " 'POSSIBLE INJURY',\n",
       " 'SUSPECTED MINOR INJURY',\n",
       " 'SUSPECTED SERIOUS INJURY'}"
      ]
     },
     "metadata": {},
     "output_type": "display_data"
    },
    {
     "data": {
      "text/plain": [
       "{'FATAL INJURY',\n",
       " 'NON FATAL INJURY - INCAPACITATING',\n",
       " 'NON FATAL INJURY - NON INCAPACITATING',\n",
       " 'NON FATAL INJURY - POSSIBLE',\n",
       " 'POSSIBLE INJURY',\n",
       " 'SUSPECTED MINOR INJURY',\n",
       " 'SUSPECTED SERIOUS INJURY'}"
      ]
     },
     "metadata": {},
     "output_type": "display_data"
    },
    {
     "name": "stdout",
     "output_type": "stream",
     "text": [
      "P1 injury: 99\n",
      "P2 injury: 361\n",
      "P1 serious injury: 8\n",
      "P2 serious injury: 14\n"
     ]
    }
   ],
   "source": [
    "# Car and bike\n",
    "cars_bike = csv[(csv[\"May involve cyclist\"]== 1) & (csv[\"May Involve Pedestrian\"].isnull())]\n",
    "stats(\"car/truck + bike\", cars_bike)"
   ]
  },
  {
   "cell_type": "code",
   "execution_count": 72,
   "metadata": {},
   "outputs": [
    {
     "name": "stdout",
     "output_type": "stream",
     "text": [
      "# car and cyclists, bonus\n",
      "total: 28\n"
     ]
    },
    {
     "name": "stderr",
     "output_type": "stream",
     "text": [
      "/tmp/ipykernel_1132347/2338845205.py:2: UserWarning: Boolean Series key will be reindexed to match DataFrame index.\n",
      "  car_and_cyclists_bonus = car_and_non_car_mystery[(csv[\"P1 Non Motorist Desc\"] == \"CYCLIST\") | (csv[\"P2 Non Motorist Desc\"] == \"CYCLIST\")]\n"
     ]
    },
    {
     "data": {
      "text/plain": [
       "{'NON FATAL INJURY - NON INCAPACITATING',\n",
       " 'NON FATAL INJURY - POSSIBLE',\n",
       " 'SUSPECTED MINOR INJURY'}"
      ]
     },
     "metadata": {},
     "output_type": "display_data"
    },
    {
     "data": {
      "text/plain": [
       "{'NON FATAL INJURY - INCAPACITATING',\n",
       " 'NON FATAL INJURY - NON INCAPACITATING',\n",
       " 'NON FATAL INJURY - POSSIBLE',\n",
       " 'SUSPECTED MINOR INJURY',\n",
       " 'SUSPECTED SERIOUS INJURY'}"
      ]
     },
     "metadata": {},
     "output_type": "display_data"
    },
    {
     "name": "stdout",
     "output_type": "stream",
     "text": [
      "P1 injury: 4\n",
      "P2 injury: 14\n",
      "P1 serious injury: 0\n",
      "P2 serious injury: 3\n",
      "# car and peds, bonus\n",
      "total: 110\n"
     ]
    },
    {
     "name": "stderr",
     "output_type": "stream",
     "text": [
      "/tmp/ipykernel_1132347/2338845205.py:5: UserWarning: Boolean Series key will be reindexed to match DataFrame index.\n",
      "  car_and_peds_bonus = car_and_non_car_mystery[(csv[\"P1 Non Motorist Desc\"] == \"PEDESTRIAN\") | (csv[\"P2 Non Motorist Desc\"] == \"PEDESTRIAN\")]\n"
     ]
    },
    {
     "data": {
      "text/plain": [
       "{'NON FATAL INJURY - INCAPACITATING',\n",
       " 'NON FATAL INJURY - NON INCAPACITATING',\n",
       " 'NON FATAL INJURY - POSSIBLE',\n",
       " 'POSSIBLE INJURY',\n",
       " 'SUSPECTED MINOR INJURY',\n",
       " 'SUSPECTED SERIOUS INJURY'}"
      ]
     },
     "metadata": {},
     "output_type": "display_data"
    },
    {
     "data": {
      "text/plain": [
       "{'NON FATAL INJURY - INCAPACITATING',\n",
       " 'NON FATAL INJURY - NON INCAPACITATING',\n",
       " 'NON FATAL INJURY - POSSIBLE',\n",
       " 'POSSIBLE INJURY',\n",
       " 'SUSPECTED MINOR INJURY',\n",
       " 'SUSPECTED SERIOUS INJURY'}"
      ]
     },
     "metadata": {},
     "output_type": "display_data"
    },
    {
     "name": "stdout",
     "output_type": "stream",
     "text": [
      "P1 injury: 16\n",
      "P2 injury: 71\n",
      "P1 serious injury: 3\n",
      "P2 serious injury: 10\n",
      "car + ? bonus total 150\n"
     ]
    }
   ],
   "source": [
    "car_and_non_car_mystery = csv[(csv[\"May involve cyclist\"] == 1) & (csv[\"May Involve Pedestrian\"] == 1) & (~csv[\"Object 1\"].isnull())]\n",
    "car_and_cyclists_bonus = car_and_non_car_mystery[(csv[\"P1 Non Motorist Desc\"] == \"CYCLIST\") | (csv[\"P2 Non Motorist Desc\"] == \"CYCLIST\")]\n",
    "stats(\"car and cyclists, bonus\", car_and_cyclists_bonus)\n",
    "\n",
    "car_and_peds_bonus = car_and_non_car_mystery[(csv[\"P1 Non Motorist Desc\"] == \"PEDESTRIAN\") | (csv[\"P2 Non Motorist Desc\"] == \"PEDESTRIAN\")]\n",
    "stats(\"car and peds, bonus\", car_and_peds_bonus)\n",
    "\n",
    "print(\"car + ? bonus total\", len(car_and_non_car_mystery))"
   ]
  },
  {
   "cell_type": "code",
   "execution_count": 73,
   "metadata": {},
   "outputs": [],
   "source": [
    "# Ideas: filter out roads not under city control (Alewife Brook Parkway, Memorial Drive)"
   ]
  }
 ],
 "metadata": {
  "kernelspec": {
   "display_name": "Python 3 (ipykernel)",
   "language": "python",
   "name": "python3"
  },
  "language_info": {
   "codemirror_mode": {
    "name": "ipython",
    "version": 3
   },
   "file_extension": ".py",
   "mimetype": "text/x-python",
   "name": "python",
   "nbconvert_exporter": "python",
   "pygments_lexer": "ipython3",
   "version": "3.9.7"
  }
 },
 "nbformat": 4,
 "nbformat_minor": 4
}
